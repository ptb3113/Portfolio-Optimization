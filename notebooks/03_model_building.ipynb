{
 "cells": [
  {
   "cell_type": "markdown",
   "id": "6b108a39",
   "metadata": {},
   "source": [
    "# Model Building and Training"
   ]
  },
  {
   "cell_type": "code",
   "execution_count": null,
   "id": "b8d9e994",
   "metadata": {},
   "outputs": [],
   "source": [
    "# Step 1: Splitting the Data into Training and Testing Sets\n",
    "\n",
    "from sklearn.model_selection import train_test_split\n",
    "\n",
    "# Define the features (X) and the target variable (y)\n",
    "# We'll use all the engineered features except the target variable 'Close'\n",
    "features = ['MA50', 'MA200', 'Daily_Return', 'Volatility', 'RSI', 'MACD', 'Signal_Line']\n",
    "X = df_final[features]\n",
    "y = df_final['Close']\n",
    "\n",
    "# Split the data into 80% training and 20% testing sets\n",
    "X_train, X_test, y_train, y_test = train_test_split(X, y, test_size=0.2, shuffle=False)\n",
    "\n",
    "# Display the shapes of the resulting datasets\n",
    "print(f\"Training set shape: X_train={X_train.shape}, y_train={y_train.shape}\")\n",
    "print(f\"Testing set shape: X_test={X_test.shape}, y_test={y_test.shape}\")\n"
   ]
  },
  {
   "cell_type": "code",
   "execution_count": null,
   "id": "a35602f9",
   "metadata": {},
   "outputs": [],
   "source": [
    "# Step 2: Scaling the Features\n",
    "\n",
    "from sklearn.preprocessing import StandardScaler\n",
    "\n",
    "# Initialize the scaler\n",
    "scaler = StandardScaler()\n",
    "\n",
    "# Fit the scaler on the training data and transform both training and testing data\n",
    "X_train_scaled = scaler.fit_transform(X_train)\n",
    "X_test_scaled = scaler.transform(X_test)\n",
    "\n",
    "# Display the first few rows of the scaled training data to verify\n",
    "print(\"\\nFirst few rows of the scaled training data:\")\n",
    "pd.DataFrame(X_train_scaled, columns=features).head()\n"
   ]
  },
  {
   "cell_type": "code",
   "execution_count": null,
   "id": "72c58066",
   "metadata": {},
   "outputs": [],
   "source": [
    "# Step 3: Training a Simple Model (Linear Regression)\n",
    "\n",
    "from sklearn.linear_model import LinearRegression\n",
    "\n",
    "# Initialize the Linear Regression model\n",
    "model = LinearRegression()\n",
    "\n",
    "# Train the model on the scaled training data\n",
    "model.fit(X_train_scaled, y_train)\n",
    "\n",
    "# Display the coefficients of the model\n",
    "print(\"\\nModel coefficients:\")\n",
    "print(dict(zip(features, model.coef_)))\n"
   ]
  },
  {
   "cell_type": "code",
   "execution_count": null,
   "id": "13496ccf",
   "metadata": {},
   "outputs": [],
   "source": [
    "# Step 4: Evaluating the Model\n",
    "\n",
    "from sklearn.metrics import mean_squared_error, r2_score\n",
    "\n",
    "# Predict on the test set\n",
    "y_pred = model.predict(X_test_scaled)\n",
    "\n",
    "# Calculate Mean Squared Error (MSE) and R-squared (R2)\n",
    "mse = mean_squared_error(y_test, y_pred)\n",
    "r2 = r2_score(y_test, y_pred)\n",
    "\n",
    "# Display the evaluation metrics\n",
    "print(f\"\\nMean Squared Error (MSE): {mse:.2f}\")\n",
    "print(f\"R-squared (R2): {r2:.2f}\")\n"
   ]
  },
  {
   "cell_type": "code",
   "execution_count": null,
   "id": "eb162f0a",
   "metadata": {},
   "outputs": [],
   "source": [
    "# Step 5: Visualizing the Model's Predictions\n",
    "\n",
    "import matplotlib.pyplot as plt\n",
    "\n",
    "# Plot the actual vs predicted prices\n",
    "plt.figure(figsize=(12, 6))\n",
    "plt.plot(y_test.index, y_test, label='Actual Prices', color='blue')\n",
    "plt.plot(y_test.index, y_pred, label='Predicted Prices', linestyle='--', color='orange')\n",
    "plt.xlabel('Date')\n",
    "plt.ylabel('Price')\n",
    "plt.title('Actual vs Predicted AAPL Stock Prices (Linear Regression)')\n",
    "plt.legend()\n",
    "plt.show()\n"
   ]
  },
  {
   "cell_type": "code",
   "execution_count": null,
   "id": "991d5576",
   "metadata": {},
   "outputs": [],
   "source": [
    "# Step 6: Experimenting with a More Complex Model (Random Forest)\n",
    "\n",
    "from sklearn.ensemble import RandomForestRegressor\n",
    "\n",
    "# Initialize the Random Forest Regressor\n",
    "rf_model = RandomForestRegressor(n_estimators=100, random_state=42)\n",
    "\n",
    "# Train the model on the scaled training data\n",
    "rf_model.fit(X_train_scaled, y_train)\n",
    "\n",
    "# Predict on the test set using Random Forest\n",
    "y_pred_rf = rf_model.predict(X_test_scaled)\n",
    "\n",
    "# Calculate and display the evaluation metrics for Random Forest\n",
    "mse_rf = mean_squared_error(y_test, y_pred_rf)\n",
    "r2_rf = r2_score(y_test, y_pred_rf)\n",
    "\n",
    "print(f\"\\nRandom Forest - Mean Squared Error (MSE): {mse_rf:.2f}\")\n",
    "print(f\"Random Forest - R-squared (R2): {r2_rf:.2f}\")\n"
   ]
  }
 ],
 "metadata": {
  "kernelspec": {
   "display_name": "Python 3 (ipykernel)",
   "language": "python",
   "name": "python3"
  },
  "language_info": {
   "codemirror_mode": {
    "name": "ipython",
    "version": 3
   },
   "file_extension": ".py",
   "mimetype": "text/x-python",
   "name": "python",
   "nbconvert_exporter": "python",
   "pygments_lexer": "ipython3",
   "version": "3.11.5"
  }
 },
 "nbformat": 4,
 "nbformat_minor": 5
}
