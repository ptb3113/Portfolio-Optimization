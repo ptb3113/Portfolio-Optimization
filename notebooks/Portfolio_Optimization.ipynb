{
 "cells": [
  {
   "cell_type": "code",
   "execution_count": null,
   "id": "cc364231",
   "metadata": {},
   "outputs": [],
   "source": [
    "# Portfolio Optimization\n",
    "# By: Pratham Brahmbhatt"
   ]
  },
  {
   "cell_type": "markdown",
   "id": "1a55ae48",
   "metadata": {},
   "source": [
    "Portfolio Optimization with Predictive Analytics\n",
    "\n",
    "Project Scope and Objectives\n",
    "- Objective: Forecast AAPL stock prices using historical data and predictive models.\n",
    "- Focus: Single-stock analysis (AAPL) with an aim to optimize investment decisions.\n",
    "- Outcome: A comprehensive analysis with predictive models and visualizations.\n"
   ]
  },
  {
   "cell_type": "markdown",
   "id": "f0a2d16d",
   "metadata": {},
   "source": [
    "# Data Preparation and Exploration"
   ]
  },
  {
   "cell_type": "code",
   "execution_count": 1,
   "id": "6e3adcdc",
   "metadata": {
    "collapsed": true
   },
   "outputs": [
    {
     "name": "stderr",
     "output_type": "stream",
     "text": [
      "/Users/ptb/anaconda3/lib/python3.11/site-packages/pandas/core/arrays/masked.py:60: UserWarning: Pandas requires version '1.3.6' or newer of 'bottleneck' (version '1.3.5' currently installed).\n",
      "  from pandas.core import (\n"
     ]
    },
    {
     "name": "stdout",
     "output_type": "stream",
     "text": [
      "First few rows of the dataset:\n"
     ]
    },
    {
     "data": {
      "text/html": [
       "<div>\n",
       "<style scoped>\n",
       "    .dataframe tbody tr th:only-of-type {\n",
       "        vertical-align: middle;\n",
       "    }\n",
       "\n",
       "    .dataframe tbody tr th {\n",
       "        vertical-align: top;\n",
       "    }\n",
       "\n",
       "    .dataframe thead th {\n",
       "        text-align: right;\n",
       "    }\n",
       "</style>\n",
       "<table border=\"1\" class=\"dataframe\">\n",
       "  <thead>\n",
       "    <tr style=\"text-align: right;\">\n",
       "      <th></th>\n",
       "      <th>Open</th>\n",
       "      <th>High</th>\n",
       "      <th>Low</th>\n",
       "      <th>Close</th>\n",
       "      <th>Adj Close</th>\n",
       "      <th>Volume</th>\n",
       "    </tr>\n",
       "    <tr>\n",
       "      <th>Date</th>\n",
       "      <th></th>\n",
       "      <th></th>\n",
       "      <th></th>\n",
       "      <th></th>\n",
       "      <th></th>\n",
       "      <th></th>\n",
       "    </tr>\n",
       "  </thead>\n",
       "  <tbody>\n",
       "    <tr>\n",
       "      <th>1980-12-12</th>\n",
       "      <td>0.128348</td>\n",
       "      <td>0.128906</td>\n",
       "      <td>0.128348</td>\n",
       "      <td>0.128348</td>\n",
       "      <td>0.099058</td>\n",
       "      <td>469033600</td>\n",
       "    </tr>\n",
       "    <tr>\n",
       "      <th>1980-12-15</th>\n",
       "      <td>0.122210</td>\n",
       "      <td>0.122210</td>\n",
       "      <td>0.121652</td>\n",
       "      <td>0.121652</td>\n",
       "      <td>0.093890</td>\n",
       "      <td>175884800</td>\n",
       "    </tr>\n",
       "    <tr>\n",
       "      <th>1980-12-16</th>\n",
       "      <td>0.113281</td>\n",
       "      <td>0.113281</td>\n",
       "      <td>0.112723</td>\n",
       "      <td>0.112723</td>\n",
       "      <td>0.086999</td>\n",
       "      <td>105728000</td>\n",
       "    </tr>\n",
       "    <tr>\n",
       "      <th>1980-12-17</th>\n",
       "      <td>0.115513</td>\n",
       "      <td>0.116071</td>\n",
       "      <td>0.115513</td>\n",
       "      <td>0.115513</td>\n",
       "      <td>0.089152</td>\n",
       "      <td>86441600</td>\n",
       "    </tr>\n",
       "    <tr>\n",
       "      <th>1980-12-18</th>\n",
       "      <td>0.118862</td>\n",
       "      <td>0.119420</td>\n",
       "      <td>0.118862</td>\n",
       "      <td>0.118862</td>\n",
       "      <td>0.091737</td>\n",
       "      <td>73449600</td>\n",
       "    </tr>\n",
       "  </tbody>\n",
       "</table>\n",
       "</div>"
      ],
      "text/plain": [
       "                Open      High       Low     Close  Adj Close     Volume\n",
       "Date                                                                    \n",
       "1980-12-12  0.128348  0.128906  0.128348  0.128348   0.099058  469033600\n",
       "1980-12-15  0.122210  0.122210  0.121652  0.121652   0.093890  175884800\n",
       "1980-12-16  0.113281  0.113281  0.112723  0.112723   0.086999  105728000\n",
       "1980-12-17  0.115513  0.116071  0.115513  0.115513   0.089152   86441600\n",
       "1980-12-18  0.118862  0.119420  0.118862  0.118862   0.091737   73449600"
      ]
     },
     "execution_count": 1,
     "metadata": {},
     "output_type": "execute_result"
    }
   ],
   "source": [
    "# Step 1: Loading the Dataset\n",
    "\n",
    "import pandas as pd\n",
    "\n",
    "# Load the AAPL stock data from the provided CSV file\n",
    "df = pd.read_csv('AAPL_stock.csv', index_col='Date', parse_dates=True)\n",
    "\n",
    "# Display the first few rows to verify the data is loaded correctly\n",
    "print(\"First few rows of the dataset:\")\n",
    "df.head()\n"
   ]
  },
  {
   "cell_type": "code",
   "execution_count": 2,
   "id": "567cca37",
   "metadata": {
    "collapsed": true
   },
   "outputs": [
    {
     "name": "stdout",
     "output_type": "stream",
     "text": [
      "\n",
      "Checking for missing values:\n",
      "Open         0\n",
      "High         0\n",
      "Low          0\n",
      "Close        0\n",
      "Adj Close    0\n",
      "Volume       0\n",
      "dtype: int64\n",
      "\n",
      "Data after handling missing values:\n"
     ]
    },
    {
     "data": {
      "text/plain": [
       "Open         0\n",
       "High         0\n",
       "Low          0\n",
       "Close        0\n",
       "Adj Close    0\n",
       "Volume       0\n",
       "dtype: int64"
      ]
     },
     "execution_count": 2,
     "metadata": {},
     "output_type": "execute_result"
    }
   ],
   "source": [
    "# Step 2: Handling Missing Values\n",
    "\n",
    "# Check for missing values in the dataset\n",
    "print(\"\\nChecking for missing values:\")\n",
    "print(df.isnull().sum())\n",
    "\n",
    "# Drop rows with any missing values (if any)\n",
    "df_cleaned = df.dropna()\n",
    "\n",
    "# Verify that missing values are handled\n",
    "print(\"\\nData after handling missing values:\")\n",
    "df_cleaned.isnull().sum()\n"
   ]
  },
  {
   "cell_type": "code",
   "execution_count": 3,
   "id": "acf77668",
   "metadata": {},
   "outputs": [
    {
     "name": "stdout",
     "output_type": "stream",
     "text": [
      "\n",
      "Basic statistics of the dataset:\n"
     ]
    },
    {
     "data": {
      "text/html": [
       "<div>\n",
       "<style scoped>\n",
       "    .dataframe tbody tr th:only-of-type {\n",
       "        vertical-align: middle;\n",
       "    }\n",
       "\n",
       "    .dataframe tbody tr th {\n",
       "        vertical-align: top;\n",
       "    }\n",
       "\n",
       "    .dataframe thead th {\n",
       "        text-align: right;\n",
       "    }\n",
       "</style>\n",
       "<table border=\"1\" class=\"dataframe\">\n",
       "  <thead>\n",
       "    <tr style=\"text-align: right;\">\n",
       "      <th></th>\n",
       "      <th>Open</th>\n",
       "      <th>High</th>\n",
       "      <th>Low</th>\n",
       "      <th>Close</th>\n",
       "      <th>Adj Close</th>\n",
       "      <th>Volume</th>\n",
       "    </tr>\n",
       "  </thead>\n",
       "  <tbody>\n",
       "    <tr>\n",
       "      <th>count</th>\n",
       "      <td>10954.000000</td>\n",
       "      <td>10954.000000</td>\n",
       "      <td>10954.000000</td>\n",
       "      <td>10954.000000</td>\n",
       "      <td>10954.000000</td>\n",
       "      <td>1.095400e+04</td>\n",
       "    </tr>\n",
       "    <tr>\n",
       "      <th>mean</th>\n",
       "      <td>21.530877</td>\n",
       "      <td>21.761904</td>\n",
       "      <td>21.308220</td>\n",
       "      <td>21.544072</td>\n",
       "      <td>20.747506</td>\n",
       "      <td>3.190792e+08</td>\n",
       "    </tr>\n",
       "    <tr>\n",
       "      <th>std</th>\n",
       "      <td>44.458386</td>\n",
       "      <td>44.931856</td>\n",
       "      <td>44.013578</td>\n",
       "      <td>44.492483</td>\n",
       "      <td>44.038943</td>\n",
       "      <td>3.357446e+08</td>\n",
       "    </tr>\n",
       "    <tr>\n",
       "      <th>min</th>\n",
       "      <td>0.049665</td>\n",
       "      <td>0.049665</td>\n",
       "      <td>0.049107</td>\n",
       "      <td>0.049107</td>\n",
       "      <td>0.037900</td>\n",
       "      <td>0.000000e+00</td>\n",
       "    </tr>\n",
       "    <tr>\n",
       "      <th>25%</th>\n",
       "      <td>0.296875</td>\n",
       "      <td>0.303571</td>\n",
       "      <td>0.290179</td>\n",
       "      <td>0.296875</td>\n",
       "      <td>0.241624</td>\n",
       "      <td>1.139936e+08</td>\n",
       "    </tr>\n",
       "    <tr>\n",
       "      <th>50%</th>\n",
       "      <td>0.522321</td>\n",
       "      <td>0.533482</td>\n",
       "      <td>0.513393</td>\n",
       "      <td>0.524554</td>\n",
       "      <td>0.427333</td>\n",
       "      <td>2.067128e+08</td>\n",
       "    </tr>\n",
       "    <tr>\n",
       "      <th>75%</th>\n",
       "      <td>19.767500</td>\n",
       "      <td>19.888572</td>\n",
       "      <td>19.457768</td>\n",
       "      <td>19.682679</td>\n",
       "      <td>17.048054</td>\n",
       "      <td>3.993444e+08</td>\n",
       "    </tr>\n",
       "    <tr>\n",
       "      <th>max</th>\n",
       "      <td>198.020004</td>\n",
       "      <td>199.619995</td>\n",
       "      <td>197.000000</td>\n",
       "      <td>198.110001</td>\n",
       "      <td>197.589523</td>\n",
       "      <td>7.421641e+09</td>\n",
       "    </tr>\n",
       "  </tbody>\n",
       "</table>\n",
       "</div>"
      ],
      "text/plain": [
       "               Open          High           Low         Close     Adj Close  \\\n",
       "count  10954.000000  10954.000000  10954.000000  10954.000000  10954.000000   \n",
       "mean      21.530877     21.761904     21.308220     21.544072     20.747506   \n",
       "std       44.458386     44.931856     44.013578     44.492483     44.038943   \n",
       "min        0.049665      0.049665      0.049107      0.049107      0.037900   \n",
       "25%        0.296875      0.303571      0.290179      0.296875      0.241624   \n",
       "50%        0.522321      0.533482      0.513393      0.524554      0.427333   \n",
       "75%       19.767500     19.888572     19.457768     19.682679     17.048054   \n",
       "max      198.020004    199.619995    197.000000    198.110001    197.589523   \n",
       "\n",
       "             Volume  \n",
       "count  1.095400e+04  \n",
       "mean   3.190792e+08  \n",
       "std    3.357446e+08  \n",
       "min    0.000000e+00  \n",
       "25%    1.139936e+08  \n",
       "50%    2.067128e+08  \n",
       "75%    3.993444e+08  \n",
       "max    7.421641e+09  "
      ]
     },
     "execution_count": 3,
     "metadata": {},
     "output_type": "execute_result"
    }
   ],
   "source": [
    "# Step 3: Calculating Basic Statistics\n",
    "\n",
    "# Calculate basic statistics like mean, median, standard deviation, etc.\n",
    "print(\"\\nBasic statistics of the dataset:\")\n",
    "df_cleaned.describe()\n"
   ]
  },
  {
   "cell_type": "code",
   "execution_count": 4,
   "id": "a7af73e9",
   "metadata": {
    "collapsed": true
   },
   "outputs": [
    {
     "data": {
      "image/png": "[encoded data removed]",
      "text/plain": [
       "<Figure size 1200x600 with 1 Axes>"
      ]
     },
     "metadata": {},
     "output_type": "display_data"
    }
   ],
   "source": [
    "# Step 4: Visualizing the Stock Price Over Time\n",
    "\n",
    "import matplotlib.pyplot as plt\n",
    "\n",
    "# Plot the 'Close' price over time\n",
    "plt.figure(figsize=(12, 6))\n",
    "plt.plot(df_cleaned.index, df_cleaned['Close'], label='Close Price', color='blue')\n",
    "plt.xlabel('Date')\n",
    "plt.ylabel('Price')\n",
    "plt.title('AAPL Stock Close Price Over Time')\n",
    "plt.legend()\n",
    "plt.show()\n"
   ]
  },
  {
   "cell_type": "code",
   "execution_count": 5,
   "id": "5c53b39d",
   "metadata": {},
   "outputs": [
    {
     "name": "stdout",
     "output_type": "stream",
     "text": [
      "\n",
      "Data with moving averages:\n"
     ]
    },
    {
     "data": {
      "text/html": [
       "<div>\n",
       "<style scoped>\n",
       "    .dataframe tbody tr th:only-of-type {\n",
       "        vertical-align: middle;\n",
       "    }\n",
       "\n",
       "    .dataframe tbody tr th {\n",
       "        vertical-align: top;\n",
       "    }\n",
       "\n",
       "    .dataframe thead th {\n",
       "        text-align: right;\n",
       "    }\n",
       "</style>\n",
       "<table border=\"1\" class=\"dataframe\">\n",
       "  <thead>\n",
       "    <tr style=\"text-align: right;\">\n",
       "      <th></th>\n",
       "      <th>Close</th>\n",
       "      <th>MA50</th>\n",
       "      <th>MA200</th>\n",
       "    </tr>\n",
       "    <tr>\n",
       "      <th>Date</th>\n",
       "      <th></th>\n",
       "      <th></th>\n",
       "      <th></th>\n",
       "    </tr>\n",
       "  </thead>\n",
       "  <tbody>\n",
       "    <tr>\n",
       "      <th>1980-12-12</th>\n",
       "      <td>0.128348</td>\n",
       "      <td>NaN</td>\n",
       "      <td>NaN</td>\n",
       "    </tr>\n",
       "    <tr>\n",
       "      <th>1980-12-15</th>\n",
       "      <td>0.121652</td>\n",
       "      <td>NaN</td>\n",
       "      <td>NaN</td>\n",
       "    </tr>\n",
       "    <tr>\n",
       "      <th>1980-12-16</th>\n",
       "      <td>0.112723</td>\n",
       "      <td>NaN</td>\n",
       "      <td>NaN</td>\n",
       "    </tr>\n",
       "    <tr>\n",
       "      <th>1980-12-17</th>\n",
       "      <td>0.115513</td>\n",
       "      <td>NaN</td>\n",
       "      <td>NaN</td>\n",
       "    </tr>\n",
       "    <tr>\n",
       "      <th>1980-12-18</th>\n",
       "      <td>0.118862</td>\n",
       "      <td>NaN</td>\n",
       "      <td>NaN</td>\n",
       "    </tr>\n",
       "  </tbody>\n",
       "</table>\n",
       "</div>"
      ],
      "text/plain": [
       "               Close  MA50  MA200\n",
       "Date                             \n",
       "1980-12-12  0.128348   NaN    NaN\n",
       "1980-12-15  0.121652   NaN    NaN\n",
       "1980-12-16  0.112723   NaN    NaN\n",
       "1980-12-17  0.115513   NaN    NaN\n",
       "1980-12-18  0.118862   NaN    NaN"
      ]
     },
     "execution_count": 5,
     "metadata": {},
     "output_type": "execute_result"
    }
   ],
   "source": [
    "# Step 5: Calculating Moving Averages\n",
    "\n",
    "# Calculate the 50-day moving average\n",
    "df_cleaned['MA50'] = df_cleaned['Close'].rolling(window=50).mean()\n",
    "\n",
    "# Calculate the 200-day moving average\n",
    "df_cleaned['MA200'] = df_cleaned['Close'].rolling(window=200).mean()\n",
    "\n",
    "# Display the first few rows to verify the moving averages\n",
    "print(\"\\nData with moving averages:\")\n",
    "df_cleaned[['Close', 'MA50', 'MA200']].head()\n"
   ]
  },
  {
   "cell_type": "code",
   "execution_count": 6,
   "id": "b39a6f8b",
   "metadata": {},
   "outputs": [
    {
     "data": {
      "image/png": "[encoded data removed]",
      "text/plain": [
       "<Figure size 1200x600 with 1 Axes>"
      ]
     },
     "metadata": {},
     "output_type": "display_data"
    }
   ],
   "source": [
    "# Step 6: Visualizing Moving Averages\n",
    "\n",
    "# Plot the 'Close' price along with the 50-day and 200-day moving averages\n",
    "plt.figure(figsize=(12, 6))\n",
    "plt.plot(df_cleaned.index, df_cleaned['Close'], label='Close Price', color='blue')\n",
    "plt.plot(df_cleaned.index, df_cleaned['MA50'], label='50-Day MA', color='orange')\n",
    "plt.plot(df_cleaned.index, df_cleaned['MA200'], label='200-Day MA', color='green')\n",
    "plt.xlabel('Date')\n",
    "plt.ylabel('Price')\n",
    "plt.title('AAPL Stock Close Price with Moving Averages')\n",
    "plt.legend()\n",
    "plt.show()\n"
   ]
  },
  {
   "cell_type": "code",
   "execution_count": null,
   "id": "3d813ec1",
   "metadata": {},
   "outputs": [],
   "source": []
  },
  {
   "cell_type": "markdown",
   "id": "6dff0468",
   "metadata": {},
   "source": [
    "# Feature Engineering"
   ]
  },
  {
   "cell_type": "code",
   "execution_count": 7,
   "id": "71207573",
   "metadata": {
    "collapsed": true
   },
   "outputs": [
    {
     "name": "stdout",
     "output_type": "stream",
     "text": [
      "Data with additional technical indicators:\n"
     ]
    },
    {
     "data": {
      "text/html": [
       "<div>\n",
       "<style scoped>\n",
       "    .dataframe tbody tr th:only-of-type {\n",
       "        vertical-align: middle;\n",
       "    }\n",
       "\n",
       "    .dataframe tbody tr th {\n",
       "        vertical-align: top;\n",
       "    }\n",
       "\n",
       "    .dataframe thead th {\n",
       "        text-align: right;\n",
       "    }\n",
       "</style>\n",
       "<table border=\"1\" class=\"dataframe\">\n",
       "  <thead>\n",
       "    <tr style=\"text-align: right;\">\n",
       "      <th></th>\n",
       "      <th>Close</th>\n",
       "      <th>Daily_Return</th>\n",
       "      <th>Volatility</th>\n",
       "      <th>RSI</th>\n",
       "      <th>MACD</th>\n",
       "      <th>Signal_Line</th>\n",
       "    </tr>\n",
       "    <tr>\n",
       "      <th>Date</th>\n",
       "      <th></th>\n",
       "      <th></th>\n",
       "      <th></th>\n",
       "      <th></th>\n",
       "      <th></th>\n",
       "      <th></th>\n",
       "    </tr>\n",
       "  </thead>\n",
       "  <tbody>\n",
       "    <tr>\n",
       "      <th>1980-12-12</th>\n",
       "      <td>0.128348</td>\n",
       "      <td>NaN</td>\n",
       "      <td>NaN</td>\n",
       "      <td>NaN</td>\n",
       "      <td>0.000000</td>\n",
       "      <td>0.000000</td>\n",
       "    </tr>\n",
       "    <tr>\n",
       "      <th>1980-12-15</th>\n",
       "      <td>0.121652</td>\n",
       "      <td>-0.052171</td>\n",
       "      <td>NaN</td>\n",
       "      <td>NaN</td>\n",
       "      <td>-0.000534</td>\n",
       "      <td>-0.000107</td>\n",
       "    </tr>\n",
       "    <tr>\n",
       "      <th>1980-12-16</th>\n",
       "      <td>0.112723</td>\n",
       "      <td>-0.073398</td>\n",
       "      <td>NaN</td>\n",
       "      <td>NaN</td>\n",
       "      <td>-0.001659</td>\n",
       "      <td>-0.000417</td>\n",
       "    </tr>\n",
       "    <tr>\n",
       "      <th>1980-12-17</th>\n",
       "      <td>0.115513</td>\n",
       "      <td>0.024751</td>\n",
       "      <td>NaN</td>\n",
       "      <td>NaN</td>\n",
       "      <td>-0.002299</td>\n",
       "      <td>-0.000793</td>\n",
       "    </tr>\n",
       "    <tr>\n",
       "      <th>1980-12-18</th>\n",
       "      <td>0.118862</td>\n",
       "      <td>0.028992</td>\n",
       "      <td>NaN</td>\n",
       "      <td>NaN</td>\n",
       "      <td>-0.002506</td>\n",
       "      <td>-0.001136</td>\n",
       "    </tr>\n",
       "  </tbody>\n",
       "</table>\n",
       "</div>"
      ],
      "text/plain": [
       "               Close  Daily_Return  Volatility  RSI      MACD  Signal_Line\n",
       "Date                                                                      \n",
       "1980-12-12  0.128348           NaN         NaN  NaN  0.000000     0.000000\n",
       "1980-12-15  0.121652     -0.052171         NaN  NaN -0.000534    -0.000107\n",
       "1980-12-16  0.112723     -0.073398         NaN  NaN -0.001659    -0.000417\n",
       "1980-12-17  0.115513      0.024751         NaN  NaN -0.002299    -0.000793\n",
       "1980-12-18  0.118862      0.028992         NaN  NaN -0.002506    -0.001136"
      ]
     },
     "execution_count": 7,
     "metadata": {},
     "output_type": "execute_result"
    }
   ],
   "source": [
    "# Step 1: Calculating Additional Technical Indicators\n",
    "\n",
    "# We'll calculate more technical indicators commonly used in stock analysis\n",
    "\n",
    "# 1.1 Calculate Daily Returns\n",
    "df_cleaned['Daily_Return'] = df_cleaned['Close'].pct_change()\n",
    "\n",
    "# 1.2 Calculate Volatility (Rolling Standard Deviation)\n",
    "df_cleaned['Volatility'] = df_cleaned['Daily_Return'].rolling(window=21).std()  # 21 trading days ~ 1 month\n",
    "\n",
    "# 1.3 Calculate Relative Strength Index (RSI)\n",
    "def calculate_RSI(data, window):\n",
    "    delta = data.diff(1)\n",
    "    gain = (delta.where(delta > 0, 0)).rolling(window=window).mean()\n",
    "    loss = (-delta.where(delta < 0, 0)).rolling(window=window).mean()\n",
    "    RS = gain / loss\n",
    "    RSI = 100 - (100 / (1 + RS))\n",
    "    return RSI\n",
    "\n",
    "df_cleaned['RSI'] = calculate_RSI(df_cleaned['Close'], window=14)  # 14-day RSI\n",
    "\n",
    "# 1.4 Calculate Moving Average Convergence Divergence (MACD)\n",
    "df_cleaned['MACD'] = df_cleaned['Close'].ewm(span=12, adjust=False).mean() - df_cleaned['Close'].ewm(span=26, adjust=False).mean()\n",
    "\n",
    "# 1.5 Calculate Signal Line (9-Day EMA of MACD)\n",
    "df_cleaned['Signal_Line'] = df_cleaned['MACD'].ewm(span=9, adjust=False).mean()\n",
    "\n",
    "# Display the first few rows to verify the new features\n",
    "print(\"Data with additional technical indicators:\")\n",
    "df_cleaned[['Close', 'Daily_Return', 'Volatility', 'RSI', 'MACD', 'Signal_Line']].head()\n"
   ]
  },
  {
   "cell_type": "code",
   "execution_count": 8,
   "id": "8dc68cde",
   "metadata": {},
   "outputs": [
    {
     "data": {
      "image/png": "[encoded data removed]",
      "text/plain": [
       "<Figure size 1000x800 with 2 Axes>"
      ]
     },
     "metadata": {},
     "output_type": "display_data"
    },
    {
     "name": "stdout",
     "output_type": "stream",
     "text": [
      "\n",
      "Correlation Matrix:\n"
     ]
    },
    {
     "data": {
      "text/html": [
       "<div>\n",
       "<style scoped>\n",
       "    .dataframe tbody tr th:only-of-type {\n",
       "        vertical-align: middle;\n",
       "    }\n",
       "\n",
       "    .dataframe tbody tr th {\n",
       "        vertical-align: top;\n",
       "    }\n",
       "\n",
       "    .dataframe thead th {\n",
       "        text-align: right;\n",
       "    }\n",
       "</style>\n",
       "<table border=\"1\" class=\"dataframe\">\n",
       "  <thead>\n",
       "    <tr style=\"text-align: right;\">\n",
       "      <th></th>\n",
       "      <th>Close</th>\n",
       "      <th>Daily_Return</th>\n",
       "      <th>Volatility</th>\n",
       "      <th>RSI</th>\n",
       "      <th>MACD</th>\n",
       "      <th>Signal_Line</th>\n",
       "      <th>MA50</th>\n",
       "      <th>MA200</th>\n",
       "    </tr>\n",
       "  </thead>\n",
       "  <tbody>\n",
       "    <tr>\n",
       "      <th>Close</th>\n",
       "      <td>1.000000</td>\n",
       "      <td>0.001428</td>\n",
       "      <td>-0.312902</td>\n",
       "      <td>0.055875</td>\n",
       "      <td>0.246120</td>\n",
       "      <td>0.255658</td>\n",
       "      <td>0.997299</td>\n",
       "      <td>0.992260</td>\n",
       "    </tr>\n",
       "    <tr>\n",
       "      <th>Daily_Return</th>\n",
       "      <td>0.001428</td>\n",
       "      <td>1.000000</td>\n",
       "      <td>-0.013530</td>\n",
       "      <td>0.243605</td>\n",
       "      <td>0.019426</td>\n",
       "      <td>0.002563</td>\n",
       "      <td>-0.004276</td>\n",
       "      <td>-0.004849</td>\n",
       "    </tr>\n",
       "    <tr>\n",
       "      <th>Volatility</th>\n",
       "      <td>-0.312902</td>\n",
       "      <td>-0.013530</td>\n",
       "      <td>1.000000</td>\n",
       "      <td>-0.152469</td>\n",
       "      <td>-0.177706</td>\n",
       "      <td>-0.189117</td>\n",
       "      <td>-0.304111</td>\n",
       "      <td>-0.299181</td>\n",
       "    </tr>\n",
       "    <tr>\n",
       "      <th>RSI</th>\n",
       "      <td>0.055875</td>\n",
       "      <td>0.243605</td>\n",
       "      <td>-0.152469</td>\n",
       "      <td>1.000000</td>\n",
       "      <td>0.339827</td>\n",
       "      <td>0.256584</td>\n",
       "      <td>0.029379</td>\n",
       "      <td>0.025591</td>\n",
       "    </tr>\n",
       "    <tr>\n",
       "      <th>MACD</th>\n",
       "      <td>0.246120</td>\n",
       "      <td>0.019426</td>\n",
       "      <td>-0.177706</td>\n",
       "      <td>0.339827</td>\n",
       "      <td>1.000000</td>\n",
       "      <td>0.952558</td>\n",
       "      <td>0.176844</td>\n",
       "      <td>0.160847</td>\n",
       "    </tr>\n",
       "    <tr>\n",
       "      <th>Signal_Line</th>\n",
       "      <td>0.255658</td>\n",
       "      <td>0.002563</td>\n",
       "      <td>-0.189117</td>\n",
       "      <td>0.256584</td>\n",
       "      <td>0.952558</td>\n",
       "      <td>1.000000</td>\n",
       "      <td>0.191608</td>\n",
       "      <td>0.167754</td>\n",
       "    </tr>\n",
       "    <tr>\n",
       "      <th>MA50</th>\n",
       "      <td>0.997299</td>\n",
       "      <td>-0.004276</td>\n",
       "      <td>-0.304111</td>\n",
       "      <td>0.029379</td>\n",
       "      <td>0.176844</td>\n",
       "      <td>0.191608</td>\n",
       "      <td>1.000000</td>\n",
       "      <td>0.995903</td>\n",
       "    </tr>\n",
       "    <tr>\n",
       "      <th>MA200</th>\n",
       "      <td>0.992260</td>\n",
       "      <td>-0.004849</td>\n",
       "      <td>-0.299181</td>\n",
       "      <td>0.025591</td>\n",
       "      <td>0.160847</td>\n",
       "      <td>0.167754</td>\n",
       "      <td>0.995903</td>\n",
       "      <td>1.000000</td>\n",
       "    </tr>\n",
       "  </tbody>\n",
       "</table>\n",
       "</div>"
      ],
      "text/plain": [
       "                 Close  Daily_Return  Volatility       RSI      MACD  \\\n",
       "Close         1.000000      0.001428   -0.312902  0.055875  0.246120   \n",
       "Daily_Return  0.001428      1.000000   -0.013530  0.243605  0.019426   \n",
       "Volatility   -0.312902     -0.013530    1.000000 -0.152469 -0.177706   \n",
       "RSI           0.055875      0.243605   -0.152469  1.000000  0.339827   \n",
       "MACD          0.246120      0.019426   -0.177706  0.339827  1.000000   \n",
       "Signal_Line   0.255658      0.002563   -0.189117  0.256584  0.952558   \n",
       "MA50          0.997299     -0.004276   -0.304111  0.029379  0.176844   \n",
       "MA200         0.992260     -0.004849   -0.299181  0.025591  0.160847   \n",
       "\n",
       "              Signal_Line      MA50     MA200  \n",
       "Close            0.255658  0.997299  0.992260  \n",
       "Daily_Return     0.002563 -0.004276 -0.004849  \n",
       "Volatility      -0.189117 -0.304111 -0.299181  \n",
       "RSI              0.256584  0.029379  0.025591  \n",
       "MACD             0.952558  0.176844  0.160847  \n",
       "Signal_Line      1.000000  0.191608  0.167754  \n",
       "MA50             0.191608  1.000000  0.995903  \n",
       "MA200            0.167754  0.995903  1.000000  "
      ]
     },
     "execution_count": 8,
     "metadata": {},
     "output_type": "execute_result"
    }
   ],
   "source": [
    "# Step 2: Exploring Feature Importance and Correlation\n",
    "\n",
    "import seaborn as sns\n",
    "import matplotlib.pyplot as plt\n",
    "\n",
    "# 2.1 Calculate the correlation matrix\n",
    "correlation_matrix = df_cleaned[['Close', 'Daily_Return', 'Volatility', 'RSI', 'MACD', 'Signal_Line', 'MA50', 'MA200']].corr()\n",
    "\n",
    "# 2.2 Visualize the correlation matrix\n",
    "plt.figure(figsize=(10, 8))\n",
    "sns.heatmap(correlation_matrix, annot=True, cmap='coolwarm', linewidths=0.5)\n",
    "plt.title('Correlation Matrix of Technical Indicators')\n",
    "plt.show()\n",
    "\n",
    "# 2.3 Display the correlation matrix\n",
    "print(\"\\nCorrelation Matrix:\")\n",
    "correlation_matrix\n"
   ]
  },
  {
   "cell_type": "code",
   "execution_count": 9,
   "id": "0fb00db3",
   "metadata": {},
   "outputs": [
    {
     "name": "stdout",
     "output_type": "stream",
     "text": [
      "\n",
      "Final dataset with selected features:\n"
     ]
    },
    {
     "data": {
      "text/html": [
       "<div>\n",
       "<style scoped>\n",
       "    .dataframe tbody tr th:only-of-type {\n",
       "        vertical-align: middle;\n",
       "    }\n",
       "\n",
       "    .dataframe tbody tr th {\n",
       "        vertical-align: top;\n",
       "    }\n",
       "\n",
       "    .dataframe thead th {\n",
       "        text-align: right;\n",
       "    }\n",
       "</style>\n",
       "<table border=\"1\" class=\"dataframe\">\n",
       "  <thead>\n",
       "    <tr style=\"text-align: right;\">\n",
       "      <th></th>\n",
       "      <th>Open</th>\n",
       "      <th>High</th>\n",
       "      <th>Low</th>\n",
       "      <th>Close</th>\n",
       "      <th>Adj Close</th>\n",
       "      <th>Volume</th>\n",
       "      <th>MA50</th>\n",
       "      <th>MA200</th>\n",
       "      <th>Daily_Return</th>\n",
       "      <th>Volatility</th>\n",
       "      <th>RSI</th>\n",
       "      <th>MACD</th>\n",
       "      <th>Signal_Line</th>\n",
       "    </tr>\n",
       "    <tr>\n",
       "      <th>Date</th>\n",
       "      <th></th>\n",
       "      <th></th>\n",
       "      <th></th>\n",
       "      <th></th>\n",
       "      <th></th>\n",
       "      <th></th>\n",
       "      <th></th>\n",
       "      <th></th>\n",
       "      <th></th>\n",
       "      <th></th>\n",
       "      <th></th>\n",
       "      <th></th>\n",
       "      <th></th>\n",
       "    </tr>\n",
       "  </thead>\n",
       "  <tbody>\n",
       "    <tr>\n",
       "      <th>1981-09-28</th>\n",
       "      <td>0.064174</td>\n",
       "      <td>0.064732</td>\n",
       "      <td>0.064174</td>\n",
       "      <td>0.064174</td>\n",
       "      <td>0.049529</td>\n",
       "      <td>91728000</td>\n",
       "      <td>0.094687</td>\n",
       "      <td>0.118125</td>\n",
       "      <td>0.008771</td>\n",
       "      <td>0.039391</td>\n",
       "      <td>7.842586</td>\n",
       "      <td>-0.007748</td>\n",
       "      <td>-0.006335</td>\n",
       "    </tr>\n",
       "    <tr>\n",
       "      <th>1981-09-29</th>\n",
       "      <td>0.067522</td>\n",
       "      <td>0.068080</td>\n",
       "      <td>0.067522</td>\n",
       "      <td>0.067522</td>\n",
       "      <td>0.052113</td>\n",
       "      <td>94684800</td>\n",
       "      <td>0.093884</td>\n",
       "      <td>0.117821</td>\n",
       "      <td>0.052171</td>\n",
       "      <td>0.039381</td>\n",
       "      <td>17.542757</td>\n",
       "      <td>-0.007814</td>\n",
       "      <td>-0.006631</td>\n",
       "    </tr>\n",
       "    <tr>\n",
       "      <th>1981-09-30</th>\n",
       "      <td>0.068080</td>\n",
       "      <td>0.068638</td>\n",
       "      <td>0.068080</td>\n",
       "      <td>0.068080</td>\n",
       "      <td>0.052543</td>\n",
       "      <td>49996800</td>\n",
       "      <td>0.093103</td>\n",
       "      <td>0.117553</td>\n",
       "      <td>0.008264</td>\n",
       "      <td>0.039555</td>\n",
       "      <td>17.542757</td>\n",
       "      <td>-0.007732</td>\n",
       "      <td>-0.006851</td>\n",
       "    </tr>\n",
       "    <tr>\n",
       "      <th>1981-10-01</th>\n",
       "      <td>0.068080</td>\n",
       "      <td>0.068638</td>\n",
       "      <td>0.068080</td>\n",
       "      <td>0.068080</td>\n",
       "      <td>0.052543</td>\n",
       "      <td>61129600</td>\n",
       "      <td>0.092444</td>\n",
       "      <td>0.117330</td>\n",
       "      <td>0.000000</td>\n",
       "      <td>0.035859</td>\n",
       "      <td>18.180633</td>\n",
       "      <td>-0.007579</td>\n",
       "      <td>-0.006997</td>\n",
       "    </tr>\n",
       "    <tr>\n",
       "      <th>1981-10-02</th>\n",
       "      <td>0.073661</td>\n",
       "      <td>0.074219</td>\n",
       "      <td>0.073661</td>\n",
       "      <td>0.073661</td>\n",
       "      <td>0.056851</td>\n",
       "      <td>45046400</td>\n",
       "      <td>0.091841</td>\n",
       "      <td>0.117120</td>\n",
       "      <td>0.081977</td>\n",
       "      <td>0.041173</td>\n",
       "      <td>33.334329</td>\n",
       "      <td>-0.006928</td>\n",
       "      <td>-0.006983</td>\n",
       "    </tr>\n",
       "  </tbody>\n",
       "</table>\n",
       "</div>"
      ],
      "text/plain": [
       "                Open      High       Low     Close  Adj Close    Volume  \\\n",
       "Date                                                                      \n",
       "1981-09-28  0.064174  0.064732  0.064174  0.064174   0.049529  91728000   \n",
       "1981-09-29  0.067522  0.068080  0.067522  0.067522   0.052113  94684800   \n",
       "1981-09-30  0.068080  0.068638  0.068080  0.068080   0.052543  49996800   \n",
       "1981-10-01  0.068080  0.068638  0.068080  0.068080   0.052543  61129600   \n",
       "1981-10-02  0.073661  0.074219  0.073661  0.073661   0.056851  45046400   \n",
       "\n",
       "                MA50     MA200  Daily_Return  Volatility        RSI      MACD  \\\n",
       "Date                                                                            \n",
       "1981-09-28  0.094687  0.118125      0.008771    0.039391   7.842586 -0.007748   \n",
       "1981-09-29  0.093884  0.117821      0.052171    0.039381  17.542757 -0.007814   \n",
       "1981-09-30  0.093103  0.117553      0.008264    0.039555  17.542757 -0.007732   \n",
       "1981-10-01  0.092444  0.117330      0.000000    0.035859  18.180633 -0.007579   \n",
       "1981-10-02  0.091841  0.117120      0.081977    0.041173  33.334329 -0.006928   \n",
       "\n",
       "            Signal_Line  \n",
       "Date                     \n",
       "1981-09-28    -0.006335  \n",
       "1981-09-29    -0.006631  \n",
       "1981-09-30    -0.006851  \n",
       "1981-10-01    -0.006997  \n",
       "1981-10-02    -0.006983  "
      ]
     },
     "execution_count": 9,
     "metadata": {},
     "output_type": "execute_result"
    }
   ],
   "source": [
    "# Step 3: Dropping or Refining Features\n",
    "\n",
    "# Based on the correlation analysis, you may decide to drop or refine features.\n",
    "\n",
    "# For example, if 'Volatility' and 'Daily_Return' are highly correlated, you might choose to keep only one.\n",
    "# Let's assume we decide to keep all features for now.\n",
    "\n",
    "# Dropping rows with any missing values (again, since new features may introduce NaNs)\n",
    "df_final = df_cleaned.dropna()\n",
    "\n",
    "# Display the final dataset with selected features\n",
    "print(\"\\nFinal dataset with selected features:\")\n",
    "df_final.head()\n"
   ]
  },
  {
   "cell_type": "code",
   "execution_count": null,
   "id": "af0e4050",
   "metadata": {},
   "outputs": [],
   "source": []
  },
  {
   "cell_type": "markdown",
   "id": "b8a47e58",
   "metadata": {},
   "source": [
    "# Model Building and Training"
   ]
  },
  {
   "cell_type": "code",
   "execution_count": 18,
   "id": "f6642a50",
   "metadata": {},
   "outputs": [
    {
     "name": "stdout",
     "output_type": "stream",
     "text": [
      "Training set shape: X_train=(8604, 7), y_train=(8604,)\n",
      "Testing set shape: X_test=(2151, 7), y_test=(2151,)\n"
     ]
    }
   ],
   "source": [
    "# Step 1: Splitting the Data into Training and Testing Sets\n",
    "\n",
    "from sklearn.model_selection import train_test_split\n",
    "\n",
    "# Define the features (X) and the target variable (y)\n",
    "# We'll use all the engineered features except the target variable 'Close'\n",
    "features = ['MA50', 'MA200', 'Daily_Return', 'Volatility', 'RSI', 'MACD', 'Signal_Line']\n",
    "X = df_final[features]\n",
    "y = df_final['Close']\n",
    "\n",
    "# Split the data into 80% training and 20% testing sets\n",
    "X_train, X_test, y_train, y_test = train_test_split(X, y, test_size=0.2, shuffle=False)\n",
    "\n",
    "# Display the shapes of the resulting datasets\n",
    "print(f\"Training set shape: X_train={X_train.shape}, y_train={y_train.shape}\")\n",
    "print(f\"Testing set shape: X_test={X_test.shape}, y_test={y_test.shape}\")\n"
   ]
  },
  {
   "cell_type": "code",
   "execution_count": 19,
   "id": "620f5852",
   "metadata": {},
   "outputs": [
    {
     "name": "stdout",
     "output_type": "stream",
     "text": [
      "\n",
      "First few rows of the scaled training data:\n"
     ]
    },
    {
     "data": {
      "text/html": [
       "<div>\n",
       "<style scoped>\n",
       "    .dataframe tbody tr th:only-of-type {\n",
       "        vertical-align: middle;\n",
       "    }\n",
       "\n",
       "    .dataframe tbody tr th {\n",
       "        vertical-align: top;\n",
       "    }\n",
       "\n",
       "    .dataframe thead th {\n",
       "        text-align: right;\n",
       "    }\n",
       "</style>\n",
       "<table border=\"1\" class=\"dataframe\">\n",
       "  <thead>\n",
       "    <tr style=\"text-align: right;\">\n",
       "      <th></th>\n",
       "      <th>MA50</th>\n",
       "      <th>MA200</th>\n",
       "      <th>Daily_Return</th>\n",
       "      <th>Volatility</th>\n",
       "      <th>RSI</th>\n",
       "      <th>MACD</th>\n",
       "      <th>Signal_Line</th>\n",
       "    </tr>\n",
       "  </thead>\n",
       "  <tbody>\n",
       "    <tr>\n",
       "      <th>0</th>\n",
       "      <td>-0.522498</td>\n",
       "      <td>-0.516871</td>\n",
       "      <td>0.256188</td>\n",
       "      <td>0.989884</td>\n",
       "      <td>-2.603120</td>\n",
       "      <td>-0.195134</td>\n",
       "      <td>-0.194878</td>\n",
       "    </tr>\n",
       "    <tr>\n",
       "      <th>1</th>\n",
       "      <td>-0.522609</td>\n",
       "      <td>-0.516916</td>\n",
       "      <td>1.718038</td>\n",
       "      <td>0.989061</td>\n",
       "      <td>-2.041004</td>\n",
       "      <td>-0.195547</td>\n",
       "      <td>-0.196842</td>\n",
       "    </tr>\n",
       "    <tr>\n",
       "      <th>2</th>\n",
       "      <td>-0.522717</td>\n",
       "      <td>-0.516956</td>\n",
       "      <td>0.239097</td>\n",
       "      <td>1.002924</td>\n",
       "      <td>-2.041004</td>\n",
       "      <td>-0.195030</td>\n",
       "      <td>-0.198304</td>\n",
       "    </tr>\n",
       "    <tr>\n",
       "      <th>3</th>\n",
       "      <td>-0.522808</td>\n",
       "      <td>-0.516989</td>\n",
       "      <td>-0.039265</td>\n",
       "      <td>0.709449</td>\n",
       "      <td>-2.004040</td>\n",
       "      <td>-0.194070</td>\n",
       "      <td>-0.199271</td>\n",
       "    </tr>\n",
       "    <tr>\n",
       "      <th>4</th>\n",
       "      <td>-0.522891</td>\n",
       "      <td>-0.517020</td>\n",
       "      <td>2.722029</td>\n",
       "      <td>1.131392</td>\n",
       "      <td>-1.125897</td>\n",
       "      <td>-0.189967</td>\n",
       "      <td>-0.199181</td>\n",
       "    </tr>\n",
       "  </tbody>\n",
       "</table>\n",
       "</div>"
      ],
      "text/plain": [
       "       MA50     MA200  Daily_Return  Volatility       RSI      MACD  \\\n",
       "0 -0.522498 -0.516871      0.256188    0.989884 -2.603120 -0.195134   \n",
       "1 -0.522609 -0.516916      1.718038    0.989061 -2.041004 -0.195547   \n",
       "2 -0.522717 -0.516956      0.239097    1.002924 -2.041004 -0.195030   \n",
       "3 -0.522808 -0.516989     -0.039265    0.709449 -2.004040 -0.194070   \n",
       "4 -0.522891 -0.517020      2.722029    1.131392 -1.125897 -0.189967   \n",
       "\n",
       "   Signal_Line  \n",
       "0    -0.194878  \n",
       "1    -0.196842  \n",
       "2    -0.198304  \n",
       "3    -0.199271  \n",
       "4    -0.199181  "
      ]
     },
     "execution_count": 19,
     "metadata": {},
     "output_type": "execute_result"
    }
   ],
   "source": [
    "# Step 2: Scaling the Features\n",
    "\n",
    "from sklearn.preprocessing import StandardScaler\n",
    "\n",
    "# Initialize the scaler\n",
    "scaler = StandardScaler()\n",
    "\n",
    "# Fit the scaler on the training data and transform both training and testing data\n",
    "X_train_scaled = scaler.fit_transform(X_train)\n",
    "X_test_scaled = scaler.transform(X_test)\n",
    "\n",
    "# Display the first few rows of the scaled training data to verify\n",
    "print(\"\\nFirst few rows of the scaled training data:\")\n",
    "pd.DataFrame(X_train_scaled, columns=features).head()\n"
   ]
  },
  {
   "cell_type": "code",
   "execution_count": 20,
   "id": "4c9ac70b",
   "metadata": {},
   "outputs": [
    {
     "name": "stdout",
     "output_type": "stream",
     "text": [
      "\n",
      "Model coefficients:\n",
      "{'MA50': 7.288227088761167, 'MA200': -0.04642070636907579, 'Daily_Return': 0.03481559469794267, 'Volatility': -0.0015435607979852237, 'RSI': -0.006583861127274432, 'MACD': 0.6828902630181523, 'Signal_Line': -0.1426481501835872}\n"
     ]
    }
   ],
   "source": [
    "# Step 3: Training a Simple Model (Linear Regression)\n",
    "\n",
    "from sklearn.linear_model import LinearRegression\n",
    "\n",
    "# Initialize the Linear Regression model\n",
    "model = LinearRegression()\n",
    "\n",
    "# Train the model on the scaled training data\n",
    "model.fit(X_train_scaled, y_train)\n",
    "\n",
    "# Display the coefficients of the model\n",
    "print(\"\\nModel coefficients:\")\n",
    "print(dict(zip(features, model.coef_)))\n"
   ]
  },
  {
   "cell_type": "code",
   "execution_count": 21,
   "id": "94380ca5",
   "metadata": {},
   "outputs": [
    {
     "name": "stdout",
     "output_type": "stream",
     "text": [
      "\n",
      "Mean Squared Error (MSE): 3.53\n",
      "R-squared (R2): 1.00\n"
     ]
    }
   ],
   "source": [
    "# Step 4: Evaluating the Model\n",
    "\n",
    "from sklearn.metrics import mean_squared_error, r2_score\n",
    "\n",
    "# Predict on the test set\n",
    "y_pred = model.predict(X_test_scaled)\n",
    "\n",
    "# Calculate Mean Squared Error (MSE) and R-squared (R2)\n",
    "mse = mean_squared_error(y_test, y_pred)\n",
    "r2 = r2_score(y_test, y_pred)\n",
    "\n",
    "# Display the evaluation metrics\n",
    "print(f\"\\nMean Squared Error (MSE): {mse:.2f}\")\n",
    "print(f\"R-squared (R2): {r2:.2f}\")\n"
   ]
  },
  {
   "cell_type": "code",
   "execution_count": 22,
   "id": "207a78f2",
   "metadata": {},
   "outputs": [
    {
     "data": {
      "image/png": "[encoded data removed]",
      "text/plain": [
       "<Figure size 1200x600 with 1 Axes>"
      ]
     },
     "metadata": {},
     "output_type": "display_data"
    }
   ],
   "source": [
    "# Step 5: Visualizing the Model's Predictions\n",
    "\n",
    "import matplotlib.pyplot as plt\n",
    "\n",
    "# Plot the actual vs predicted prices\n",
    "plt.figure(figsize=(12, 6))\n",
    "plt.plot(y_test.index, y_test, label='Actual Prices', color='blue')\n",
    "plt.plot(y_test.index, y_pred, label='Predicted Prices', linestyle='--', color='orange')\n",
    "plt.xlabel('Date')\n",
    "plt.ylabel('Price')\n",
    "plt.title('Actual vs Predicted AAPL Stock Prices (Linear Regression)')\n",
    "plt.legend()\n",
    "plt.show()\n"
   ]
  },
  {
   "cell_type": "code",
   "execution_count": 23,
   "id": "bef902dd",
   "metadata": {},
   "outputs": [
    {
     "name": "stdout",
     "output_type": "stream",
     "text": [
      "\n",
      "Random Forest - Mean Squared Error (MSE): 7379.77\n",
      "Random Forest - R-squared (R2): -1.20\n"
     ]
    }
   ],
   "source": [
    "# Step 6: Experimenting with a More Complex Model (Random Forest)\n",
    "\n",
    "from sklearn.ensemble import RandomForestRegressor\n",
    "\n",
    "# Initialize the Random Forest Regressor\n",
    "rf_model = RandomForestRegressor(n_estimators=100, random_state=42)\n",
    "\n",
    "# Train the model on the scaled training data\n",
    "rf_model.fit(X_train_scaled, y_train)\n",
    "\n",
    "# Predict on the test set using Random Forest\n",
    "y_pred_rf = rf_model.predict(X_test_scaled)\n",
    "\n",
    "# Calculate and display the evaluation metrics for Random Forest\n",
    "mse_rf = mean_squared_error(y_test, y_pred_rf)\n",
    "r2_rf = r2_score(y_test, y_pred_rf)\n",
    "\n",
    "print(f\"\\nRandom Forest - Mean Squared Error (MSE): {mse_rf:.2f}\")\n",
    "print(f\"Random Forest - R-squared (R2): {r2_rf:.2f}\")\n"
   ]
  },
  {
   "cell_type": "code",
   "execution_count": null,
   "id": "be819f8d",
   "metadata": {},
   "outputs": [],
   "source": []
  },
  {
   "cell_type": "markdown",
   "id": "d50cd5de",
   "metadata": {},
   "source": [
    "# Future Stock Price Prediction "
   ]
  },
  {
   "cell_type": "code",
   "execution_count": 32,
   "id": "40cff839",
   "metadata": {},
   "outputs": [
    {
     "name": "stdout",
     "output_type": "stream",
     "text": [
      "Models retrained on the entire dataset for future predictions.\n"
     ]
    }
   ],
   "source": [
    "# Step 1: Retraining the Model on the Entire Dataset\n",
    "\n",
    "# Use the entire dataset to retrain the model for future predictions\n",
    "X_full = df_final[features]\n",
    "y_full = df_final['Close']\n",
    "\n",
    "# Scale the entire dataset using the previously fitted scaler\n",
    "X_full_scaled = scaler.fit_transform(X_full)\n",
    "\n",
    "# Retrain the Linear Regression model on the entire dataset\n",
    "model.fit(X_full_scaled, y_full)\n",
    "\n",
    "# Retrain the Random Forest model on the entire dataset\n",
    "rf_model.fit(X_full_scaled, y_full)\n",
    "\n",
    "print(\"Models retrained on the entire dataset for future predictions.\")\n"
   ]
  },
  {
   "cell_type": "code",
   "execution_count": 33,
   "id": "3d55c331",
   "metadata": {},
   "outputs": [
    {
     "name": "stdout",
     "output_type": "stream",
     "text": [
      "\n",
      "Future dates generated from 2024-05-24 00:00:00 to 2024-06-23 00:00:00.\n"
     ]
    }
   ],
   "source": [
    "# Step 2: Generating Future Dates for Prediction\n",
    "\n",
    "# Define the number of future days you want to predict\n",
    "forecast_days = 30\n",
    "\n",
    "# Generate future dates (this assumes daily frequency)\n",
    "# Replace 'closed' with 'inclusive'\n",
    "last_date = df_final.index[-1]\n",
    "future_dates = pd.date_range(last_date, periods=forecast_days + 1, inclusive='right')\n",
    "\n",
    "# Create a DataFrame to store future predictions\n",
    "future_df = pd.DataFrame(index=future_dates)\n",
    "\n",
    "print(f\"\\nFuture dates generated from {last_date} to {future_dates[-1]}.\")\n"
   ]
  },
  {
   "cell_type": "code",
   "execution_count": 34,
   "id": "330c483d",
   "metadata": {},
   "outputs": [
    {
     "name": "stdout",
     "output_type": "stream",
     "text": [
      "\n",
      "Future data prepared and scaled for prediction.\n"
     ]
    }
   ],
   "source": [
    "# Step 3: Preparing Future Data for Prediction\n",
    "\n",
    "# Copy the last row of the current data as the starting point for future predictions\n",
    "last_row = df_final.iloc[-1][features]\n",
    "\n",
    "# Repeat the last row for the number of future days to predict\n",
    "future_data = pd.DataFrame([last_row] * forecast_days, index=future_dates, columns=features)\n",
    "\n",
    "# Scale the future data\n",
    "future_data_scaled = scaler.transform(future_data)\n",
    "\n",
    "print(\"\\nFuture data prepared and scaled for prediction.\")\n"
   ]
  },
  {
   "cell_type": "code",
   "execution_count": 35,
   "id": "6e7793f1",
   "metadata": {},
   "outputs": [
    {
     "name": "stdout",
     "output_type": "stream",
     "text": [
      "\n",
      "Future stock price predictions (first few days):\n",
      "            Predicted_Close_LR  Predicted_Close_RF\n",
      "2024-05-25          191.513565          189.594298\n",
      "2024-05-26          191.513565          189.594298\n",
      "2024-05-27          191.513565          189.594298\n",
      "2024-05-28          191.513565          189.594298\n",
      "2024-05-29          191.513565          189.594298\n"
     ]
    }
   ],
   "source": [
    "# Step 4: Predicting Future Stock Prices\n",
    "\n",
    "# Predict future prices using both models\n",
    "future_df['Predicted_Close_LR'] = model.predict(future_data_scaled)  # Using Linear Regression\n",
    "future_df['Predicted_Close_RF'] = rf_model.predict(future_data_scaled)  # Using Random Forest\n",
    "\n",
    "# Display the first few future predictions\n",
    "print(\"\\nFuture stock price predictions (first few days):\")\n",
    "print(future_df.head())\n"
   ]
  },
  {
   "cell_type": "code",
   "execution_count": 40,
   "id": "3e2fe5d0",
   "metadata": {},
   "outputs": [
    {
     "name": "stdout",
     "output_type": "stream",
     "text": [
      "            Predicted_Close_LR  Predicted_Close_RF\n",
      "2024-05-25          191.513565          189.594298\n",
      "2024-05-26          191.513565          189.594298\n",
      "2024-05-27          191.513565          189.594298\n",
      "2024-05-28          191.513565          189.594298\n",
      "2024-05-29          191.513565          189.594298\n",
      "2024-05-30          191.513565          189.594298\n",
      "2024-05-31          191.513565          189.594298\n",
      "2024-06-01          191.513565          189.594298\n",
      "2024-06-02          191.513565          189.594298\n",
      "2024-06-03          191.513565          189.594298\n",
      "2024-06-04          191.513565          189.594298\n",
      "2024-06-05          191.513565          189.594298\n",
      "2024-06-06          191.513565          189.594298\n",
      "2024-06-07          191.513565          189.594298\n",
      "2024-06-08          191.513565          189.594298\n",
      "2024-06-09          191.513565          189.594298\n",
      "2024-06-10          191.513565          189.594298\n",
      "2024-06-11          191.513565          189.594298\n",
      "2024-06-12          191.513565          189.594298\n",
      "2024-06-13          191.513565          189.594298\n",
      "2024-06-14          191.513565          189.594298\n",
      "2024-06-15          191.513565          189.594298\n",
      "2024-06-16          191.513565          189.594298\n",
      "2024-06-17          191.513565          189.594298\n",
      "2024-06-18          191.513565          189.594298\n",
      "2024-06-19          191.513565          189.594298\n",
      "2024-06-20          191.513565          189.594298\n",
      "2024-06-21          191.513565          189.594298\n",
      "2024-06-22          191.513565          189.594298\n",
      "2024-06-23          191.513565          189.594298\n"
     ]
    }
   ],
   "source": [
    "print(future_df[['Predicted_Close_LR', 'Predicted_Close_RF']])\n"
   ]
  },
  {
   "cell_type": "code",
   "execution_count": null,
   "id": "a6089eab",
   "metadata": {},
   "outputs": [],
   "source": []
  },
  {
   "cell_type": "markdown",
   "id": "280461c5",
   "metadata": {},
   "source": [
    "# Risk Management"
   ]
  },
  {
   "cell_type": "markdown",
   "id": "f6d6d384",
   "metadata": {},
   "source": [
    "Step 1: Calculate Key Risk Metrics"
   ]
  },
  {
   "cell_type": "code",
   "execution_count": 41,
   "id": "35bbc6dd",
   "metadata": {},
   "outputs": [
    {
     "name": "stdout",
     "output_type": "stream",
     "text": [
      "Value at Risk (VaR) 95%: -0.0403\n"
     ]
    },
    {
     "name": "stderr",
     "output_type": "stream",
     "text": [
      "/var/folders/62/mvj95ht93jb_vys63ypv4mmc0000gn/T/ipykernel_93239/228190775.py:6: SettingWithCopyWarning: \n",
      "A value is trying to be set on a copy of a slice from a DataFrame.\n",
      "Try using .loc[row_indexer,col_indexer] = value instead\n",
      "\n",
      "See the caveats in the documentation: https://pandas.pydata.org/pandas-docs/stable/user_guide/indexing.html#returning-a-view-versus-a-copy\n",
      "  df_final['Daily_Return'] = df_final['Close'].pct_change()\n"
     ]
    }
   ],
   "source": [
    "# Step 1.1: Calculating Value at Risk (VaR)\n",
    "\n",
    "import numpy as np\n",
    "\n",
    "# Calculate daily returns\n",
    "df_final['Daily_Return'] = df_final['Close'].pct_change()\n",
    "\n",
    "# Calculate the Value at Risk (VaR) at a 95% confidence level\n",
    "VaR_95 = np.percentile(df_final['Daily_Return'].dropna(), 5)\n",
    "\n",
    "# Display the VaR\n",
    "print(f\"Value at Risk (VaR) 95%: {VaR_95:.4f}\")\n"
   ]
  },
  {
   "cell_type": "code",
   "execution_count": 42,
   "id": "d78dbd16",
   "metadata": {},
   "outputs": [
    {
     "name": "stdout",
     "output_type": "stream",
     "text": [
      "Sharpe Ratio: 0.0395\n"
     ]
    }
   ],
   "source": [
    "# Step 1.2: Calculating the Sharpe Ratio\n",
    "\n",
    "# Assume an annual risk-free rate of 1%\n",
    "risk_free_rate = 0.01  \n",
    "\n",
    "# Calculate the Sharpe Ratio\n",
    "sharpe_ratio = (df_final['Daily_Return'].mean() - risk_free_rate / 252) / df_final['Daily_Return'].std()\n",
    "\n",
    "# Display the Sharpe Ratio\n",
    "print(f\"Sharpe Ratio: {sharpe_ratio:.4f}\")\n"
   ]
  },
  {
   "cell_type": "markdown",
   "id": "afbc2df4",
   "metadata": {},
   "source": [
    "Step 2: Scenario Analysis and Stress Testing"
   ]
  },
  {
   "cell_type": "code",
   "execution_count": 43,
   "id": "b3fb65f6",
   "metadata": {},
   "outputs": [
    {
     "name": "stdout",
     "output_type": "stream",
     "text": [
      "Simulated Market Crash Return: -0.0822\n"
     ]
    }
   ],
   "source": [
    "# Step 2.1: Performing Scenario Analysis\n",
    "\n",
    "# Example scenario: Simulate a market crash\n",
    "# Assume a market crash as a drop of 3 standard deviations below the mean\n",
    "market_crash_return = df_final['Daily_Return'].mean() - 3 * df_final['Daily_Return'].std()\n",
    "\n",
    "# Display the simulated market crash return\n",
    "print(f\"Simulated Market Crash Return: {market_crash_return:.4f}\")\n"
   ]
  },
  {
   "cell_type": "code",
   "execution_count": 44,
   "id": "ac925285",
   "metadata": {},
   "outputs": [
    {
     "name": "stdout",
     "output_type": "stream",
     "text": [
      "Portfolio Value After Market Crash: $917,786.77\n"
     ]
    }
   ],
   "source": [
    "# Step 2.2: Performing Stress Testing\n",
    "\n",
    "# Example stress test: Calculate the portfolio value after a market crash\n",
    "# Assuming an initial portfolio value (e.g., $1,000,000)\n",
    "initial_portfolio_value = 1000000\n",
    "\n",
    "# Calculate the portfolio value after a simulated market crash\n",
    "portfolio_value_after_crash = initial_portfolio_value * (1 + market_crash_return)\n",
    "\n",
    "# Display the portfolio value after the stress test\n",
    "print(f\"Portfolio Value After Market Crash: ${portfolio_value_after_crash:,.2f}\")\n"
   ]
  },
  {
   "cell_type": "code",
   "execution_count": null,
   "id": "9787e8d7",
   "metadata": {},
   "outputs": [],
   "source": []
  },
  {
   "cell_type": "code",
   "execution_count": null,
   "id": "02c6df5e",
   "metadata": {},
   "outputs": [],
   "source": []
  }
 ],
 "metadata": {
  "kernelspec": {
   "display_name": "Python 3 (ipykernel)",
   "language": "python",
   "name": "python3"
  },
  "language_info": {
   "codemirror_mode": {
    "name": "ipython",
    "version": 3
   },
   "file_extension": ".py",
   "mimetype": "text/x-python",
   "name": "python",
   "nbconvert_exporter": "python",
   "pygments_lexer": "ipython3",
   "version": "3.11.5"
  }
 },
 "nbformat": 4,
 "nbformat_minor": 5
}
