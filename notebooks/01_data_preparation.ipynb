{
 "cells": [
  {
   "cell_type": "markdown",
   "id": "bc93046a",
   "metadata": {},
   "source": [
    "# Data Preparation and Exploration"
   ]
  },
  {
   "cell_type": "code",
   "execution_count": null,
   "id": "04b45622",
   "metadata": {},
   "outputs": [],
   "source": [
    "# Step 1: Loading the Dataset\n",
    "\n",
    "import pandas as pd\n",
    "\n",
    "# Load the AAPL stock data from the provided CSV file\n",
    "df = pd.read_csv('AAPL_stock.csv', index_col='Date', parse_dates=True)\n",
    "\n",
    "# Display the first few rows to verify the data is loaded correctly\n",
    "print(\"First few rows of the dataset:\")\n",
    "df.head()\n"
   ]
  },
  {
   "cell_type": "code",
   "execution_count": null,
   "id": "a4e69616",
   "metadata": {},
   "outputs": [],
   "source": [
    "# Step 2: Handling Missing Values\n",
    "\n",
    "# Check for missing values in the dataset\n",
    "print(\"\\nChecking for missing values:\")\n",
    "print(df.isnull().sum())\n",
    "\n",
    "# Drop rows with any missing values (if any)\n",
    "df_cleaned = df.dropna()\n",
    "\n",
    "# Verify that missing values are handled\n",
    "print(\"\\nData after handling missing values:\")\n",
    "df_cleaned.isnull().sum()"
   ]
  },
  {
   "cell_type": "code",
   "execution_count": null,
   "id": "2e1998b0",
   "metadata": {},
   "outputs": [],
   "source": [
    "# Step 3: Calculating Basic Statistics\n",
    "\n",
    "# Calculate basic statistics like mean, median, standard deviation, etc.\n",
    "print(\"\\nBasic statistics of the dataset:\")\n",
    "df_cleaned.describe()"
   ]
  },
  {
   "cell_type": "code",
   "execution_count": null,
   "id": "f3eff58d",
   "metadata": {},
   "outputs": [],
   "source": [
    "# Step 4: Visualizing the Stock Price Over Time\n",
    "\n",
    "import matplotlib.pyplot as plt\n",
    "\n",
    "# Plot the 'Close' price over time\n",
    "plt.figure(figsize=(12, 6))\n",
    "plt.plot(df_cleaned.index, df_cleaned['Close'], label='Close Price', color='blue')\n",
    "plt.xlabel('Date')\n",
    "plt.ylabel('Price')\n",
    "plt.title('AAPL Stock Close Price Over Time')\n",
    "plt.legend()\n",
    "plt.show()"
   ]
  },
  {
   "cell_type": "code",
   "execution_count": null,
   "id": "d3787102",
   "metadata": {},
   "outputs": [],
   "source": [
    "# Step 5: Calculating Moving Averages\n",
    "\n",
    "# Calculate the 50-day moving average\n",
    "df_cleaned['MA50'] = df_cleaned['Close'].rolling(window=50).mean()\n",
    "\n",
    "# Calculate the 200-day moving average\n",
    "df_cleaned['MA200'] = df_cleaned['Close'].rolling(window=200).mean()\n",
    "\n",
    "# Display the first few rows to verify the moving averages\n",
    "print(\"\\nData with moving averages:\")\n",
    "df_cleaned[['Close', 'MA50', 'MA200']].head()\n"
   ]
  },
  {
   "cell_type": "code",
   "execution_count": null,
   "id": "a9c4ae63",
   "metadata": {},
   "outputs": [],
   "source": [
    "# Step 6: Visualizing Moving Averages\n",
    "\n",
    "# Plot the 'Close' price along with the 50-day and 200-day moving averages\n",
    "plt.figure(figsize=(12, 6))\n",
    "plt.plot(df_cleaned.index, df_cleaned['Close'], label='Close Price', color='blue')\n",
    "plt.plot(df_cleaned.index, df_cleaned['MA50'], label='50-Day MA', color='orange')\n",
    "plt.plot(df_cleaned.index, df_cleaned['MA200'], label='200-Day MA', color='green')\n",
    "plt.xlabel('Date')\n",
    "plt.ylabel('Price')\n",
    "plt.title('AAPL Stock Close Price with Moving Averages')\n",
    "plt.legend()\n",
    "plt.show()\n"
   ]
  },
  {
   "cell_type": "code",
   "execution_count": null,
   "id": "ca807153",
   "metadata": {},
   "outputs": [],
   "source": []
  }
 ],
 "metadata": {
  "kernelspec": {
   "display_name": "Python 3 (ipykernel)",
   "language": "python",
   "name": "python3"
  },
  "language_info": {
   "codemirror_mode": {
    "name": "ipython",
    "version": 3
   },
   "file_extension": ".py",
   "mimetype": "text/x-python",
   "name": "python",
   "nbconvert_exporter": "python",
   "pygments_lexer": "ipython3",
   "version": "3.11.5"
  }
 },
 "nbformat": 4,
 "nbformat_minor": 5
}
