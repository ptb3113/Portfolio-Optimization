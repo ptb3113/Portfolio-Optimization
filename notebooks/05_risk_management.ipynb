{
 "cells": [
  {
   "cell_type": "markdown",
   "id": "380925b1",
   "metadata": {},
   "source": [
    "# Risk Management"
   ]
  },
  {
   "cell_type": "markdown",
   "id": "99563f91",
   "metadata": {},
   "source": [
    "Step 1: Calculate Key Risk Metrics"
   ]
  },
  {
   "cell_type": "code",
   "execution_count": null,
   "id": "18e982e9",
   "metadata": {},
   "outputs": [],
   "source": [
    "# Step 1.1: Calculating Value at Risk (VaR)\n",
    "\n",
    "import numpy as np\n",
    "\n",
    "# Calculate daily returns\n",
    "df_final['Daily_Return'] = df_final['Close'].pct_change()\n",
    "\n",
    "# Calculate the Value at Risk (VaR) at a 95% confidence level\n",
    "VaR_95 = np.percentile(df_final['Daily_Return'].dropna(), 5)\n",
    "\n",
    "# Display the VaR\n",
    "print(f\"Value at Risk (VaR) 95%: {VaR_95:.4f}\")\n"
   ]
  },
  {
   "cell_type": "code",
   "execution_count": null,
   "id": "0f65cb48",
   "metadata": {},
   "outputs": [],
   "source": [
    "# Step 1.2: Calculating the Sharpe Ratio\n",
    "\n",
    "# Assume an annual risk-free rate of 1%\n",
    "risk_free_rate = 0.01  \n",
    "\n",
    "# Calculate the Sharpe Ratio\n",
    "sharpe_ratio = (df_final['Daily_Return'].mean() - risk_free_rate / 252) / df_final['Daily_Return'].std()\n",
    "\n",
    "# Display the Sharpe Ratio\n",
    "print(f\"Sharpe Ratio: {sharpe_ratio:.4f}\")\n"
   ]
  },
  {
   "cell_type": "markdown",
   "id": "c96d34a9",
   "metadata": {},
   "source": [
    "Step 2: Scenario Analysis and Stress Testing"
   ]
  },
  {
   "cell_type": "code",
   "execution_count": null,
   "id": "270983f9",
   "metadata": {},
   "outputs": [],
   "source": [
    "# Step 2.1: Performing Scenario Analysis\n",
    "\n",
    "# Example scenario: Simulate a market crash\n",
    "# Assume a market crash as a drop of 3 standard deviations below the mean\n",
    "market_crash_return = df_final['Daily_Return'].mean() - 3 * df_final['Daily_Return'].std()\n",
    "\n",
    "# Display the simulated market crash return\n",
    "print(f\"Simulated Market Crash Return: {market_crash_return:.4f}\")\n"
   ]
  },
  {
   "cell_type": "code",
   "execution_count": null,
   "id": "c8c93e09",
   "metadata": {},
   "outputs": [],
   "source": [
    "# Step 2.2: Performing Stress Testing\n",
    "\n",
    "# Example stress test: Calculate the portfolio value after a market crash\n",
    "# Assuming an initial portfolio value (e.g., $1,000,000)\n",
    "initial_portfolio_value = 1000000\n",
    "\n",
    "# Calculate the portfolio value after a simulated market crash\n",
    "portfolio_value_after_crash = initial_portfolio_value * (1 + market_crash_return)\n",
    "\n",
    "# Display the portfolio value after the stress test\n",
    "print(f\"Portfolio Value After Market Crash: ${portfolio_value_after_crash:,.2f}\")\n"
   ]
  },
  {
   "cell_type": "code",
   "execution_count": null,
   "id": "aa5a872d",
   "metadata": {},
   "outputs": [],
   "source": []
  }
 ],
 "metadata": {
  "kernelspec": {
   "display_name": "Python 3 (ipykernel)",
   "language": "python",
   "name": "python3"
  },
  "language_info": {
   "codemirror_mode": {
    "name": "ipython",
    "version": 3
   },
   "file_extension": ".py",
   "mimetype": "text/x-python",
   "name": "python",
   "nbconvert_exporter": "python",
   "pygments_lexer": "ipython3",
   "version": "3.11.5"
  }
 },
 "nbformat": 4,
 "nbformat_minor": 5
}
