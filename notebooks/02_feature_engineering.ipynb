{
 "cells": [
  {
   "cell_type": "markdown",
   "id": "d70e21a3",
   "metadata": {},
   "source": [
    "# Feature Engineering"
   ]
  },
  {
   "cell_type": "code",
   "execution_count": null,
   "id": "fd3fbeb4",
   "metadata": {},
   "outputs": [],
   "source": [
    "# Step 1: Calculating Additional Technical Indicators\n",
    "\n",
    "# We'll calculate more technical indicators commonly used in stock analysis\n",
    "\n",
    "# 1.1 Calculate Daily Returns\n",
    "df_cleaned['Daily_Return'] = df_cleaned['Close'].pct_change()\n",
    "\n",
    "# 1.2 Calculate Volatility (Rolling Standard Deviation)\n",
    "df_cleaned['Volatility'] = df_cleaned['Daily_Return'].rolling(window=21).std()  # 21 trading days ~ 1 month\n",
    "\n",
    "# 1.3 Calculate Relative Strength Index (RSI)\n",
    "def calculate_RSI(data, window):\n",
    "    delta = data.diff(1)\n",
    "    gain = (delta.where(delta > 0, 0)).rolling(window=window).mean()\n",
    "    loss = (-delta.where(delta < 0, 0)).rolling(window=window).mean()\n",
    "    RS = gain / loss\n",
    "    RSI = 100 - (100 / (1 + RS))\n",
    "    return RSI\n",
    "\n",
    "df_cleaned['RSI'] = calculate_RSI(df_cleaned['Close'], window=14)  # 14-day RSI\n",
    "\n",
    "# 1.4 Calculate Moving Average Convergence Divergence (MACD)\n",
    "df_cleaned['MACD'] = df_cleaned['Close'].ewm(span=12, adjust=False).mean() - df_cleaned['Close'].ewm(span=26, adjust=False).mean()\n",
    "\n",
    "# 1.5 Calculate Signal Line (9-Day EMA of MACD)\n",
    "df_cleaned['Signal_Line'] = df_cleaned['MACD'].ewm(span=9, adjust=False).mean()\n",
    "\n",
    "# Display the first few rows to verify the new features\n",
    "print(\"Data with additional technical indicators:\")\n",
    "df_cleaned[['Close', 'Daily_Return', 'Volatility', 'RSI', 'MACD', 'Signal_Line']].head()\n"
   ]
  },
  {
   "cell_type": "code",
   "execution_count": null,
   "id": "a7e30b54",
   "metadata": {},
   "outputs": [],
   "source": [
    "# Step 2: Exploring Feature Importance and Correlation\n",
    "\n",
    "import seaborn as sns\n",
    "import matplotlib.pyplot as plt\n",
    "\n",
    "# 2.1 Calculate the correlation matrix\n",
    "correlation_matrix = df_cleaned[['Close', 'Daily_Return', 'Volatility', 'RSI', 'MACD', 'Signal_Line', 'MA50', 'MA200']].corr()\n",
    "\n",
    "# 2.2 Visualize the correlation matrix\n",
    "plt.figure(figsize=(10, 8))\n",
    "sns.heatmap(correlation_matrix, annot=True, cmap='coolwarm', linewidths=0.5)\n",
    "plt.title('Correlation Matrix of Technical Indicators')\n",
    "plt.show()\n",
    "\n",
    "# 2.3 Display the correlation matrix\n",
    "print(\"\\nCorrelation Matrix:\")\n",
    "correlation_matrix\n"
   ]
  },
  {
   "cell_type": "code",
   "execution_count": null,
   "id": "82f7dbbc",
   "metadata": {},
   "outputs": [],
   "source": [
    "# Step 3: Dropping or Refining Features\n",
    "\n",
    "# Based on the correlation analysis, you may decide to drop or refine features.\n",
    "\n",
    "# For example, if 'Volatility' and 'Daily_Return' are highly correlated, you might choose to keep only one.\n",
    "# Let's assume we decide to keep all features for now.\n",
    "\n",
    "# Dropping rows with any missing values (again, since new features may introduce NaNs)\n",
    "df_final = df_cleaned.dropna()\n",
    "\n",
    "# Display the final dataset with selected features\n",
    "print(\"\\nFinal dataset with selected features:\")\n",
    "df_final.head()\n"
   ]
  },
  {
   "cell_type": "code",
   "execution_count": null,
   "id": "06e46ff8",
   "metadata": {},
   "outputs": [],
   "source": []
  }
 ],
 "metadata": {
  "kernelspec": {
   "display_name": "Python 3 (ipykernel)",
   "language": "python",
   "name": "python3"
  },
  "language_info": {
   "codemirror_mode": {
    "name": "ipython",
    "version": 3
   },
   "file_extension": ".py",
   "mimetype": "text/x-python",
   "name": "python",
   "nbconvert_exporter": "python",
   "pygments_lexer": "ipython3",
   "version": "3.11.5"
  }
 },
 "nbformat": 4,
 "nbformat_minor": 5
}
