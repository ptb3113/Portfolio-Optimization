{
 "cells": [
  {
   "cell_type": "markdown",
   "id": "fd14d03d",
   "metadata": {},
   "source": [
    "# Future Stock Price Prediction "
   ]
  },
  {
   "cell_type": "code",
   "execution_count": null,
   "id": "e94da876",
   "metadata": {},
   "outputs": [],
   "source": [
    "# Step 1: Retraining the Model on the Entire Dataset\n",
    "\n",
    "# Use the entire dataset to retrain the model for future predictions\n",
    "X_full = df_final[features]\n",
    "y_full = df_final['Close']\n",
    "\n",
    "# Scale the entire dataset using the previously fitted scaler\n",
    "X_full_scaled = scaler.fit_transform(X_full)\n",
    "\n",
    "# Retrain the Linear Regression model on the entire dataset\n",
    "model.fit(X_full_scaled, y_full)\n",
    "\n",
    "# Retrain the Random Forest model on the entire dataset\n",
    "rf_model.fit(X_full_scaled, y_full)\n",
    "\n",
    "print(\"Models retrained on the entire dataset for future predictions.\")\n"
   ]
  },
  {
   "cell_type": "code",
   "execution_count": null,
   "id": "1420edf6",
   "metadata": {},
   "outputs": [],
   "source": [
    "# Step 2: Generating Future Dates for Prediction\n",
    "\n",
    "# Define the number of future days you want to predict\n",
    "forecast_days = 30\n",
    "\n",
    "# Generate future dates (this assumes daily frequency)\n",
    "# Replace 'closed' with 'inclusive'\n",
    "last_date = df_final.index[-1]\n",
    "future_dates = pd.date_range(last_date, periods=forecast_days + 1, inclusive='right')\n",
    "\n",
    "# Create a DataFrame to store future predictions\n",
    "future_df = pd.DataFrame(index=future_dates)\n",
    "\n",
    "print(f\"\\nFuture dates generated from {last_date} to {future_dates[-1]}.\")\n"
   ]
  },
  {
   "cell_type": "code",
   "execution_count": null,
   "id": "7ff75b13",
   "metadata": {},
   "outputs": [],
   "source": [
    "# Step 3: Preparing Future Data for Prediction\n",
    "\n",
    "# Copy the last row of the current data as the starting point for future predictions\n",
    "last_row = df_final.iloc[-1][features]\n",
    "\n",
    "# Repeat the last row for the number of future days to predict\n",
    "future_data = pd.DataFrame([last_row] * forecast_days, index=future_dates, columns=features)\n",
    "\n",
    "# Scale the future data\n",
    "future_data_scaled = scaler.transform(future_data)\n",
    "\n",
    "print(\"\\nFuture data prepared and scaled for prediction.\")\n"
   ]
  },
  {
   "cell_type": "code",
   "execution_count": null,
   "id": "f346aafb",
   "metadata": {},
   "outputs": [],
   "source": [
    "# Step 4: Predicting Future Stock Prices\n",
    "\n",
    "# Predict future prices using both models\n",
    "future_df['Predicted_Close_LR'] = model.predict(future_data_scaled)  # Using Linear Regression\n",
    "future_df['Predicted_Close_RF'] = rf_model.predict(future_data_scaled)  # Using Random Forest\n",
    "\n",
    "# Display the first few future predictions\n",
    "print(\"\\nFuture stock price predictions (first few days):\")\n",
    "print(future_df.head())\n"
   ]
  },
  {
   "cell_type": "code",
   "execution_count": null,
   "id": "56255aff",
   "metadata": {},
   "outputs": [],
   "source": [
    "print(future_df[['Predicted_Close_LR', 'Predicted_Close_RF']])\n"
   ]
  },
  {
   "cell_type": "code",
   "execution_count": null,
   "id": "18634171",
   "metadata": {},
   "outputs": [],
   "source": []
  }
 ],
 "metadata": {
  "kernelspec": {
   "display_name": "Python 3 (ipykernel)",
   "language": "python",
   "name": "python3"
  },
  "language_info": {
   "codemirror_mode": {
    "name": "ipython",
    "version": 3
   },
   "file_extension": ".py",
   "mimetype": "text/x-python",
   "name": "python",
   "nbconvert_exporter": "python",
   "pygments_lexer": "ipython3",
   "version": "3.11.5"
  }
 },
 "nbformat": 4,
 "nbformat_minor": 5
}
